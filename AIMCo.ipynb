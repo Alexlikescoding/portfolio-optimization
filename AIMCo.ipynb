{
 "cells": [
  {
   "cell_type": "code",
   "execution_count": 2,
   "metadata": {},
   "outputs": [],
   "source": [
    "import pandas as pd\n",
    "import numpy as np\n",
    "import numpy_financial as npf\n",
    "import quandl\n",
    "import math\n",
    "import random\n",
    "\n",
    "import matplotlib.pyplot as plt\n",
    "import matplotlib.patches as patches\n",
    "import copy\n",
    "\n",
    "from scipy.optimize import fsolve\n",
    "from sklearn.decomposition import PCA\n",
    "import sklearn.covariance\n",
    "\n",
    "# coundn't install pyportfolioopt"
   ]
  },
  {
   "cell_type": "code",
   "execution_count": 3,
   "metadata": {
    "collapsed": true,
    "jupyter": {
     "outputs_hidden": true
    }
   },
   "outputs": [
    {
     "data": {
      "text/plain": [
       "UNITED STATES     10\n",
       "CANADA            10\n",
       "CHINA              9\n",
       "JAPAN              5\n",
       "UNITED KINGDOM     5\n",
       "GERMANY            3\n",
       "SWITZERLAND        3\n",
       "FRANCE             2\n",
       "FINLAND            1\n",
       "DENMARK            1\n",
       "NETHERLANDS        1\n",
       "Name: Country, dtype: int64"
      ]
     },
     "execution_count": 3,
     "metadata": {},
     "output_type": "execute_result"
    }
   ],
   "source": [
    "data = pd.read_excel('Project Input Data.xlsx', sheet_name='Security Price (Monthly)', header=2)\n",
    "\n",
    "country = pd.read_excel('Project Input Data.xlsx', sheet_name='Security Information')\n",
    "country['Country'].value_counts()\n",
    "names = data.columns[1:]"
   ]
  },
  {
   "cell_type": "markdown",
   "metadata": {},
   "source": [
    "##### Important assumptions:\n",
    "#####  1. No risk free asset. Rf = 0. The portfolio is constructed entirely from the 50 risky securities universe.\n",
    "#####  2. Using monthly percentage changes, not log(St/St-1)\n",
    "#####  3. Assume monthly portfolio rebalancing with perfect securities liquidity.\n",
    "##### Note: These simplifying assumptions limit the practicality and applicability of the models explored as they may not be realistic in practice. This exercise is for demonstration only."
   ]
  },
  {
   "cell_type": "code",
   "execution_count": 6,
   "metadata": {},
   "outputs": [],
   "source": [
    "ret = copy.deepcopy(data)\n",
    "\n",
    "for i in names:\n",
    "    ret[i] = ret[i].pct_change()\n",
    "\n",
    "ret = ret[names][1:]+1"
   ]
  },
  {
   "cell_type": "code",
   "execution_count": null,
   "metadata": {},
   "outputs": [],
   "source": [
    "# mean returns vector\n",
    "mean = ret.mean()\n",
    "\n",
    "# correlation and covariance matrix\n",
    "ret.corr()\n",
    "ret.cov()"
   ]
  },
  {
   "cell_type": "markdown",
   "metadata": {},
   "source": [
    "## First, explore 1/N portfolio, i.e. portfolio equally weighted on all 50 stocks"
   ]
  },
  {
   "cell_type": "code",
   "execution_count": 438,
   "metadata": {},
   "outputs": [
    {
     "data": {
      "text/plain": [
       "0.3445588260852913"
      ]
     },
     "execution_count": 438,
     "metadata": {},
     "output_type": "execute_result"
    }
   ],
   "source": [
    "m = []\n",
    "\n",
    "for i in range(len(ret)):\n",
    "    m.append(ret.iloc[i].mean())\n",
    "    \n",
    "N_mu = np.mean(m)\n",
    "N_std = np.std(m)\n",
    "N_Sharpe = (np.mean(m)-1)/np.std(m)\n",
    "N = 100*np.cumprod(m)\n",
    "N_Sharpe"
   ]
  },
  {
   "cell_type": "markdown",
   "metadata": {},
   "source": [
    "## Second, explore Markowitz mean-variance portfolios, first minimum risk portfolio, followed by market/tangent portfolio"
   ]
  },
  {
   "cell_type": "markdown",
   "metadata": {},
   "source": [
    "### Min-risk portfolios, with cumulative window and rolling window, respectively\n"
   ]
  },
  {
   "cell_type": "code",
   "execution_count": 439,
   "metadata": {},
   "outputs": [],
   "source": [
    "# starting with 24 months (2yrs), if less than 24 months of price data is used to estimate covariance matrix, the resulting portfolio show extremely wild fluctuations\n",
    "\n",
    "l=np.repeat(1,50)\n",
    "m=[]\n",
    "\n",
    "for i in range(24,len(ret)):\n",
    "    sigma=ret[0:i].cov()\n",
    "    x=np.linalg.inv(sigma).dot(l)/np.transpose(l).dot(np.linalg.inv(sigma)).dot(l)\n",
    "    m.append(ret.iloc[i].dot(x))\n",
    "    \n",
    "minrisk_mu=np.mean(m)\n",
    "minrisk_std=np.std(m)\n",
    "minrisk_Sharpe=(np.mean(m)-1)/np.std(m)\n",
    "minrisk=100*np.cumprod(m)"
   ]
  },
  {
   "cell_type": "code",
   "execution_count": 441,
   "metadata": {},
   "outputs": [
    {
     "name": "stdout",
     "output_type": "stream",
     "text": [
      "Exposure to  CANADA  exceeds  20.0 % !  Unfeasible.\n",
      "Exposure to  JAPAN  exceeds  20.0 % !  Unfeasible.\n"
     ]
    }
   ],
   "source": [
    "d={'Security ID': country['Security ID'], 'weights': x}\n",
    "d=pd.DataFrame(d)\n",
    "dt = country.merge(d, 'left', 'Security ID')\n",
    "check_limit(dt,countries,limit)"
   ]
  },
  {
   "cell_type": "code",
   "execution_count": 442,
   "metadata": {},
   "outputs": [
    {
     "data": {
      "text/plain": [
       "0.09285473125798745"
      ]
     },
     "execution_count": 442,
     "metadata": {},
     "output_type": "execute_result"
    }
   ],
   "source": [
    "minrisk_Sharpe"
   ]
  },
  {
   "cell_type": "code",
   "execution_count": 444,
   "metadata": {},
   "outputs": [],
   "source": [
    "# rolling 60 months (5yrs), if less than 60 months of price data is used to estimate covariance matrix, the resulting portfolio show extremely wild fluctuations\n",
    "\n",
    "l=np.repeat(1,50)\n",
    "m=[]\n",
    "\n",
    "for i in range(60,len(ret)):\n",
    "    sigma=ret[i-60:i].cov()\n",
    "    x=np.linalg.inv(sigma).dot(l)/np.transpose(l).dot(np.linalg.inv(sigma)).dot(l)\n",
    "    m.append(ret.iloc[i].dot(x))\n",
    "    \n",
    "minrisk_roll_mu=np.mean(m)\n",
    "minrisk_roll_std=np.std(m)\n",
    "minrisk_roll_Sharpe=(np.mean(m)-1)/np.std(m)\n",
    "minrisk_roll=100*np.cumprod(m)"
   ]
  },
  {
   "cell_type": "code",
   "execution_count": 445,
   "metadata": {},
   "outputs": [
    {
     "name": "stdout",
     "output_type": "stream",
     "text": [
      "Short exposure to  UNITED STATES  exceeds  20.0 % !  Unfeasible.\n",
      "Exposure to  CANADA  exceeds  20.0 % !  Unfeasible.\n",
      "Exposure to  JAPAN  exceeds  20.0 % !  Unfeasible.\n",
      "Short exposure to  GERMANY  exceeds  20.0 % !  Unfeasible.\n",
      "Exposure to  SWITZERLAND  exceeds  20.0 % !  Unfeasible.\n",
      "Exposure to  FRANCE  exceeds  20.0 % !  Unfeasible.\n"
     ]
    }
   ],
   "source": [
    "d={'Security ID': country['Security ID'], 'weights': x}\n",
    "d=pd.DataFrame(d)\n",
    "dt = country.merge(d, 'left', 'Security ID')\n",
    "check_limit(dt,countries,limit)"
   ]
  },
  {
   "cell_type": "code",
   "execution_count": 446,
   "metadata": {},
   "outputs": [
    {
     "data": {
      "text/plain": [
       "0.07487314217573368"
      ]
     },
     "execution_count": 446,
     "metadata": {},
     "output_type": "execute_result"
    }
   ],
   "source": [
    "minrisk_roll_Sharpe"
   ]
  },
  {
   "cell_type": "code",
   "execution_count": 449,
   "metadata": {},
   "outputs": [],
   "source": [
    "# use the entire time frame to build minrisk portfolio\n",
    "\n",
    "l=np.repeat(1,50)\n",
    "sigma=ret.cov()\n",
    "x=np.linalg.inv(sigma).dot(l)/np.transpose(l).dot(np.linalg.inv(sigma)).dot(l)"
   ]
  },
  {
   "cell_type": "code",
   "execution_count": 450,
   "metadata": {},
   "outputs": [
    {
     "name": "stdout",
     "output_type": "stream",
     "text": [
      "Exposure to  CANADA  exceeds  20.0 % !  Unfeasible.\n",
      "Exposure to  JAPAN  exceeds  20.0 % !  Unfeasible.\n"
     ]
    }
   ],
   "source": [
    "d={'Security ID': country['Security ID'], 'weights': x}\n",
    "d=pd.DataFrame(d)\n",
    "dt = country.merge(d, 'left', 'Security ID')\n",
    "check_limit(dt,countries,limit)"
   ]
  },
  {
   "cell_type": "code",
   "execution_count": 451,
   "metadata": {},
   "outputs": [
    {
     "data": {
      "text/plain": [
       "0.40646290528486223"
      ]
     },
     "execution_count": 451,
     "metadata": {},
     "output_type": "execute_result"
    }
   ],
   "source": [
    "(np.transpose(x).dot(ret.mean())-1)/np.sqrt(np.transpose(x).dot(ret.cov()).dot(x))"
   ]
  },
  {
   "cell_type": "markdown",
   "metadata": {},
   "source": [
    "### Market/tangent portfolios, with cumulative window and rolling window, respectively"
   ]
  },
  {
   "cell_type": "code",
   "execution_count": 452,
   "metadata": {},
   "outputs": [],
   "source": [
    "# to be be consistent with minrisk portfolios for comparison, also use cumulative window starting with 24 months\n",
    "\n",
    "l=np.repeat(1,50)\n",
    "m=[]\n",
    "\n",
    "for i in range(24,len(ret)):\n",
    "    mu=ret[0:i].mean()\n",
    "    sigma=ret[0:i].cov()\n",
    "    tao_m=1/np.transpose(l).dot(np.linalg.inv(sigma)).dot(mu-1)\n",
    "    x_m=tao_m*np.linalg.inv(sigma).dot(mu-1)\n",
    "    m.append(ret.iloc[i].dot(x_m))\n",
    "    \n",
    "market_mu = np.mean(m)\n",
    "market_std = np.std(m)\n",
    "market_Sharpe = (np.mean(m)-1)/np.std(m)\n",
    "market = 100*np.cumprod(m)"
   ]
  },
  {
   "cell_type": "code",
   "execution_count": 454,
   "metadata": {},
   "outputs": [
    {
     "name": "stdout",
     "output_type": "stream",
     "text": [
      "Exposure to  UNITED STATES  exceeds  20.0 % !  Unfeasible.\n",
      "Exposure to  CANADA  exceeds  20.0 % !  Unfeasible.\n",
      "Short exposure to  UNITED KINGDOM  exceeds  20.0 % !  Unfeasible.\n",
      "Exposure to  FRANCE  exceeds  20.0 % !  Unfeasible.\n"
     ]
    }
   ],
   "source": [
    "d={'Security ID': country['Security ID'], 'weights': x_m}\n",
    "d=pd.DataFrame(d)\n",
    "dt = country.merge(d, 'left', 'Security ID')\n",
    "check_limit(dt,countries,limit)"
   ]
  },
  {
   "cell_type": "code",
   "execution_count": 455,
   "metadata": {},
   "outputs": [
    {
     "data": {
      "text/plain": [
       "0.13127155262958526"
      ]
     },
     "execution_count": 455,
     "metadata": {},
     "output_type": "execute_result"
    }
   ],
   "source": [
    "market_Sharpe"
   ]
  },
  {
   "cell_type": "code",
   "execution_count": 457,
   "metadata": {},
   "outputs": [],
   "source": [
    "# use rolling window with 30 months\n",
    "\n",
    "l=np.repeat(1,50)\n",
    "m=[]\n",
    "\n",
    "for i in range(30,len(ret)):\n",
    "    mu=ret[i-30:i].mean()\n",
    "    sigma=ret[i-30:i].cov()\n",
    "    tao_m=1/np.transpose(l).dot(np.linalg.inv(sigma)).dot(mu-1)\n",
    "    x_m=tao_m*np.linalg.inv(sigma).dot(mu-1)\n",
    "    m.append(ret.iloc[i].dot(x_m))\n",
    "    \n",
    "market_roll_mu = np.mean(m)\n",
    "market_roll_std = np.std(m)\n",
    "market_roll_Sharpe = (np.mean(m)-1)/np.std(m)\n",
    "market_roll = 100*np.cumprod(m)"
   ]
  },
  {
   "cell_type": "code",
   "execution_count": 458,
   "metadata": {},
   "outputs": [
    {
     "name": "stdout",
     "output_type": "stream",
     "text": [
      "Exposure to  UNITED STATES  exceeds  20.0 % !  Unfeasible.\n",
      "Exposure to  CANADA  exceeds  20.0 % !  Unfeasible.\n",
      "Exposure to  CHINA  exceeds  20.0 % !  Unfeasible.\n",
      "Exposure to  UNITED KINGDOM  exceeds  20.0 % !  Unfeasible.\n",
      "Short exposure to  GERMANY  exceeds  20.0 % !  Unfeasible.\n",
      "Exposure to  SWITZERLAND  exceeds  20.0 % !  Unfeasible.\n",
      "Short exposure to  FRANCE  exceeds  20.0 % !  Unfeasible.\n",
      "Exposure to  NETHERLANDS  exceeds  20.0 % !  Unfeasible.\n"
     ]
    }
   ],
   "source": [
    "d={'Security ID': country['Security ID'], 'weights': x_m}\n",
    "d=pd.DataFrame(d)\n",
    "dt = country.merge(d, 'left', 'Security ID')\n",
    "check_limit(dt,countries,limit)"
   ]
  },
  {
   "cell_type": "code",
   "execution_count": 459,
   "metadata": {},
   "outputs": [
    {
     "data": {
      "text/plain": [
       "0.11774371655979271"
      ]
     },
     "execution_count": 459,
     "metadata": {},
     "output_type": "execute_result"
    }
   ],
   "source": [
    "market_roll_Sharpe"
   ]
  },
  {
   "cell_type": "code",
   "execution_count": 460,
   "metadata": {},
   "outputs": [],
   "source": [
    "# use the entire time frame to build market portfolio\n",
    "\n",
    "l=np.repeat(1,50)\n",
    "mu=ret.mean()\n",
    "sigma=ret.cov()\n",
    "tao_m=1/np.transpose(l).dot(np.linalg.inv(sigma)).dot(mu-1)\n",
    "x_m=tao_m*np.linalg.inv(sigma).dot(mu-1)\n"
   ]
  },
  {
   "cell_type": "code",
   "execution_count": 461,
   "metadata": {},
   "outputs": [
    {
     "name": "stdout",
     "output_type": "stream",
     "text": [
      "Exposure to  UNITED STATES  exceeds  20.0 % !  Unfeasible.\n",
      "Exposure to  CANADA  exceeds  20.0 % !  Unfeasible.\n",
      "Short exposure to  UNITED KINGDOM  exceeds  20.0 % !  Unfeasible.\n",
      "Exposure to  FRANCE  exceeds  20.0 % !  Unfeasible.\n"
     ]
    }
   ],
   "source": [
    "d={'Security ID': country['Security ID'], 'weights': x_m}\n",
    "d=pd.DataFrame(d)\n",
    "dt = country.merge(d, 'left', 'Security ID')\n",
    "check_limit(dt,countries,limit)"
   ]
  },
  {
   "cell_type": "code",
   "execution_count": 462,
   "metadata": {},
   "outputs": [
    {
     "data": {
      "text/plain": [
       "0.8198405036148345"
      ]
     },
     "execution_count": 462,
     "metadata": {},
     "output_type": "execute_result"
    }
   ],
   "source": [
    "(np.transpose(x_m).dot(ret.mean())-1)/np.sqrt(np.transpose(x_m).dot(ret.cov()).dot(x_m))"
   ]
  },
  {
   "cell_type": "markdown",
   "metadata": {},
   "source": [
    "# PCA portfolios"
   ]
  },
  {
   "cell_type": "code",
   "execution_count": 463,
   "metadata": {},
   "outputs": [],
   "source": [
    "# PC1 portfolio with cumulative window starting with 24 months\n",
    "\n",
    "PC1=[]\n",
    "\n",
    "for i in range(24,len(ret)):\n",
    "    pc1=PCA(n_components=5).fit(ret[0:i].cov()).components_[0]\n",
    "    weights=pc1/sum(pc1) # rescale weights\n",
    "    PC1.append(ret.iloc[i].dot(weights))\n",
    "\n",
    "pca_mu=np.mean(PC1)\n",
    "pca_std=np.std(PC1)\n",
    "pca_Sharpe=(np.mean(PC1)-1)/np.std(PC1)\n",
    "pca=100*np.cumprod(PC1)\n",
    "\n",
    "# PCA(n_components=5).fit(ret.cov()).explained_variance_ratio_"
   ]
  },
  {
   "cell_type": "code",
   "execution_count": 464,
   "metadata": {},
   "outputs": [
    {
     "name": "stdout",
     "output_type": "stream",
     "text": [
      "Short exposure to  CANADA  exceeds  20.0 % !  Unfeasible.\n",
      "Exposure to  CHINA  exceeds  20.0 % !  Unfeasible.\n",
      "Short exposure to  UNITED KINGDOM  exceeds  20.0 % !  Unfeasible.\n"
     ]
    }
   ],
   "source": [
    "d={'Security ID': country['Security ID'], 'weights': weights}\n",
    "d=pd.DataFrame(d)\n",
    "dt = country.merge(d, 'left', 'Security ID')\n",
    "check_limit(dt,countries,limit)"
   ]
  },
  {
   "cell_type": "code",
   "execution_count": 465,
   "metadata": {},
   "outputs": [
    {
     "data": {
      "text/plain": [
       "0.14309960151696116"
      ]
     },
     "execution_count": 465,
     "metadata": {},
     "output_type": "execute_result"
    }
   ],
   "source": [
    "pca_Sharpe"
   ]
  },
  {
   "cell_type": "code",
   "execution_count": 466,
   "metadata": {},
   "outputs": [],
   "source": [
    "# PC1 portfolio with rolling window starting with 80 months\n",
    "\n",
    "PC1=[]\n",
    "\n",
    "for i in range(80,len(ret)):\n",
    "    pc1=PCA(n_components=5).fit(ret[i-80:i].cov()).components_[0]\n",
    "    weights=pc1/sum(pc1) # rescale weights\n",
    "    PC1.append(ret.iloc[i].dot(weights))\n",
    "\n",
    "pca_roll_mu=np.mean(PC1)\n",
    "pca_roll_std=np.std(PC1)\n",
    "pca_roll_Sharpe=(np.mean(PC1)-1)/np.std(PC1)\n",
    "pca_roll=100*np.cumprod(PC1)\n"
   ]
  },
  {
   "cell_type": "code",
   "execution_count": 467,
   "metadata": {},
   "outputs": [
    {
     "name": "stdout",
     "output_type": "stream",
     "text": [
      "Exposure to  CANADA  exceeds  20.0 % !  Unfeasible.\n",
      "Exposure to  CHINA  exceeds  20.0 % !  Unfeasible.\n"
     ]
    }
   ],
   "source": [
    "d={'Security ID': country['Security ID'], 'weights': weights}\n",
    "d=pd.DataFrame(d)\n",
    "dt = country.merge(d, 'left', 'Security ID')\n",
    "check_limit(dt,countries,limit)"
   ]
  },
  {
   "cell_type": "code",
   "execution_count": 468,
   "metadata": {},
   "outputs": [
    {
     "data": {
      "text/plain": [
       "0.14754771144727716"
      ]
     },
     "execution_count": 468,
     "metadata": {},
     "output_type": "execute_result"
    }
   ],
   "source": [
    "pca_roll_Sharpe"
   ]
  },
  {
   "cell_type": "code",
   "execution_count": 471,
   "metadata": {},
   "outputs": [],
   "source": [
    "# use the entire time frame to build PCA portfolio\n",
    "\n",
    "pc1=PCA(n_components=5).fit(ret.cov()).components_[0]\n",
    "weights=pc1/sum(pc1) # rescale weights\n",
    "\n",
    "# PCA(n_components=5).fit(ret.cov()).explained_variance_ratio_"
   ]
  },
  {
   "cell_type": "code",
   "execution_count": 472,
   "metadata": {},
   "outputs": [
    {
     "name": "stdout",
     "output_type": "stream",
     "text": [
      "Short exposure to  CANADA  exceeds  20.0 % !  Unfeasible.\n",
      "Exposure to  CHINA  exceeds  20.0 % !  Unfeasible.\n",
      "Short exposure to  UNITED KINGDOM  exceeds  20.0 % !  Unfeasible.\n"
     ]
    }
   ],
   "source": [
    "d={'Security ID': country['Security ID'], 'weights': weights}\n",
    "d=pd.DataFrame(d)\n",
    "dt = country.merge(d, 'left', 'Security ID')\n",
    "check_limit(dt,countries,limit)"
   ]
  },
  {
   "cell_type": "code",
   "execution_count": 473,
   "metadata": {},
   "outputs": [
    {
     "data": {
      "text/plain": [
       "0.18767834954230114"
      ]
     },
     "execution_count": 473,
     "metadata": {},
     "output_type": "execute_result"
    }
   ],
   "source": [
    "(np.transpose(weights).dot(ret.mean())-1)/np.sqrt(np.transpose(weights).dot(ret.cov()).dot(weights))"
   ]
  },
  {
   "cell_type": "markdown",
   "metadata": {},
   "source": [
    "## Generate portfolios with randomly sampled weights, plot in the (volatility, return) space to explore min-risk and optimal risk portfolios"
   ]
  },
  {
   "cell_type": "markdown",
   "metadata": {},
   "source": [
    "#### Note: np.random.random() only generates positive (0,1) weights and does not allow short exposure"
   ]
  },
  {
   "cell_type": "code",
   "execution_count": 487,
   "metadata": {},
   "outputs": [],
   "source": [
    "mu=[]\n",
    "std=[]\n",
    "p_weights=[]\n",
    "Sharpe=[]\n",
    "\n",
    "for i in range(10000):\n",
    "    weight = np.random.random(50)\n",
    "    weights = weight/sum(weight)\n",
    "    p_weights.append(weights)\n",
    "    mu.append(np.transpose(weights).dot(ret.mean()))\n",
    "    std.append(np.sqrt(np.transpose(weights).dot(ret.cov()).dot(weights)))\n",
    "    # Sharpe ratio for each portfolio, assume rf=0\n",
    "    Sharpe.append((np.transpose(weights).dot(ret.mean())-1)/np.sqrt(np.transpose(weights).dot(ret.cov()).dot(weights)))\n",
    "    # plt.scatter(std[i],mu[i])"
   ]
  },
  {
   "cell_type": "code",
   "execution_count": 488,
   "metadata": {},
   "outputs": [
    {
     "data": {
      "text/html": [
       "<div>\n",
       "<style scoped>\n",
       "    .dataframe tbody tr th:only-of-type {\n",
       "        vertical-align: middle;\n",
       "    }\n",
       "\n",
       "    .dataframe tbody tr th {\n",
       "        vertical-align: top;\n",
       "    }\n",
       "\n",
       "    .dataframe thead th {\n",
       "        text-align: right;\n",
       "    }\n",
       "</style>\n",
       "<table border=\"1\" class=\"dataframe\">\n",
       "  <thead>\n",
       "    <tr style=\"text-align: right;\">\n",
       "      <th></th>\n",
       "      <th>Returns</th>\n",
       "      <th>Volatility</th>\n",
       "      <th>Sharpe ratio</th>\n",
       "      <th>CM-CA</th>\n",
       "      <th>BMO-CA</th>\n",
       "      <th>TD-CA</th>\n",
       "      <th>BNS-CA</th>\n",
       "      <th>NA-CA</th>\n",
       "      <th>BCE-CA</th>\n",
       "      <th>EMP.A-CA</th>\n",
       "      <th>...</th>\n",
       "      <th>AAPL-US</th>\n",
       "      <th>JPM-US</th>\n",
       "      <th>PG-US</th>\n",
       "      <th>INTC-US</th>\n",
       "      <th>VZ-US</th>\n",
       "      <th>DIS-US</th>\n",
       "      <th>MSFT-US</th>\n",
       "      <th>AMZN-US</th>\n",
       "      <th>UPS-US</th>\n",
       "      <th>GOOGL-US</th>\n",
       "    </tr>\n",
       "  </thead>\n",
       "  <tbody>\n",
       "    <tr>\n",
       "      <th>0</th>\n",
       "      <td>1.012180</td>\n",
       "      <td>0.034391</td>\n",
       "      <td>0.354167</td>\n",
       "      <td>0.035739</td>\n",
       "      <td>0.009729</td>\n",
       "      <td>0.017361</td>\n",
       "      <td>0.001920</td>\n",
       "      <td>0.014997</td>\n",
       "      <td>0.024954</td>\n",
       "      <td>0.007140</td>\n",
       "      <td>...</td>\n",
       "      <td>0.015844</td>\n",
       "      <td>0.014421</td>\n",
       "      <td>0.013708</td>\n",
       "      <td>0.015364</td>\n",
       "      <td>0.006625</td>\n",
       "      <td>0.003435</td>\n",
       "      <td>0.020138</td>\n",
       "      <td>0.025642</td>\n",
       "      <td>0.003296</td>\n",
       "      <td>0.035579</td>\n",
       "    </tr>\n",
       "    <tr>\n",
       "      <th>1</th>\n",
       "      <td>1.011163</td>\n",
       "      <td>0.032725</td>\n",
       "      <td>0.341121</td>\n",
       "      <td>0.001224</td>\n",
       "      <td>0.013648</td>\n",
       "      <td>0.022535</td>\n",
       "      <td>0.021262</td>\n",
       "      <td>0.006013</td>\n",
       "      <td>0.002389</td>\n",
       "      <td>0.014590</td>\n",
       "      <td>...</td>\n",
       "      <td>0.029348</td>\n",
       "      <td>0.001761</td>\n",
       "      <td>0.031815</td>\n",
       "      <td>0.023443</td>\n",
       "      <td>0.028181</td>\n",
       "      <td>0.019890</td>\n",
       "      <td>0.031087</td>\n",
       "      <td>0.035353</td>\n",
       "      <td>0.020892</td>\n",
       "      <td>0.022462</td>\n",
       "    </tr>\n",
       "    <tr>\n",
       "      <th>2</th>\n",
       "      <td>1.011100</td>\n",
       "      <td>0.033025</td>\n",
       "      <td>0.336103</td>\n",
       "      <td>0.030556</td>\n",
       "      <td>0.020089</td>\n",
       "      <td>0.029161</td>\n",
       "      <td>0.030415</td>\n",
       "      <td>0.017648</td>\n",
       "      <td>0.015980</td>\n",
       "      <td>0.015675</td>\n",
       "      <td>...</td>\n",
       "      <td>0.007843</td>\n",
       "      <td>0.026262</td>\n",
       "      <td>0.024993</td>\n",
       "      <td>0.022048</td>\n",
       "      <td>0.002686</td>\n",
       "      <td>0.038140</td>\n",
       "      <td>0.026940</td>\n",
       "      <td>0.036653</td>\n",
       "      <td>0.021429</td>\n",
       "      <td>0.020893</td>\n",
       "    </tr>\n",
       "    <tr>\n",
       "      <th>3</th>\n",
       "      <td>1.011527</td>\n",
       "      <td>0.033372</td>\n",
       "      <td>0.345420</td>\n",
       "      <td>0.008122</td>\n",
       "      <td>0.016757</td>\n",
       "      <td>0.009593</td>\n",
       "      <td>0.028884</td>\n",
       "      <td>0.022074</td>\n",
       "      <td>0.019739</td>\n",
       "      <td>0.009052</td>\n",
       "      <td>...</td>\n",
       "      <td>0.019782</td>\n",
       "      <td>0.032018</td>\n",
       "      <td>0.035412</td>\n",
       "      <td>0.033693</td>\n",
       "      <td>0.012256</td>\n",
       "      <td>0.036479</td>\n",
       "      <td>0.023428</td>\n",
       "      <td>0.009729</td>\n",
       "      <td>0.003791</td>\n",
       "      <td>0.011825</td>\n",
       "    </tr>\n",
       "    <tr>\n",
       "      <th>4</th>\n",
       "      <td>1.010983</td>\n",
       "      <td>0.034118</td>\n",
       "      <td>0.321919</td>\n",
       "      <td>0.009020</td>\n",
       "      <td>0.021054</td>\n",
       "      <td>0.010551</td>\n",
       "      <td>0.015471</td>\n",
       "      <td>0.022086</td>\n",
       "      <td>0.035916</td>\n",
       "      <td>0.025617</td>\n",
       "      <td>...</td>\n",
       "      <td>0.012125</td>\n",
       "      <td>0.011432</td>\n",
       "      <td>0.031028</td>\n",
       "      <td>0.004781</td>\n",
       "      <td>0.010585</td>\n",
       "      <td>0.000481</td>\n",
       "      <td>0.036388</td>\n",
       "      <td>0.030084</td>\n",
       "      <td>0.023404</td>\n",
       "      <td>0.005715</td>\n",
       "    </tr>\n",
       "  </tbody>\n",
       "</table>\n",
       "<p>5 rows × 53 columns</p>\n",
       "</div>"
      ],
      "text/plain": [
       "    Returns  Volatility  Sharpe ratio     CM-CA    BMO-CA     TD-CA    BNS-CA  \\\n",
       "0  1.012180    0.034391      0.354167  0.035739  0.009729  0.017361  0.001920   \n",
       "1  1.011163    0.032725      0.341121  0.001224  0.013648  0.022535  0.021262   \n",
       "2  1.011100    0.033025      0.336103  0.030556  0.020089  0.029161  0.030415   \n",
       "3  1.011527    0.033372      0.345420  0.008122  0.016757  0.009593  0.028884   \n",
       "4  1.010983    0.034118      0.321919  0.009020  0.021054  0.010551  0.015471   \n",
       "\n",
       "      NA-CA    BCE-CA  EMP.A-CA  ...   AAPL-US    JPM-US     PG-US   INTC-US  \\\n",
       "0  0.014997  0.024954  0.007140  ...  0.015844  0.014421  0.013708  0.015364   \n",
       "1  0.006013  0.002389  0.014590  ...  0.029348  0.001761  0.031815  0.023443   \n",
       "2  0.017648  0.015980  0.015675  ...  0.007843  0.026262  0.024993  0.022048   \n",
       "3  0.022074  0.019739  0.009052  ...  0.019782  0.032018  0.035412  0.033693   \n",
       "4  0.022086  0.035916  0.025617  ...  0.012125  0.011432  0.031028  0.004781   \n",
       "\n",
       "      VZ-US    DIS-US   MSFT-US   AMZN-US    UPS-US  GOOGL-US  \n",
       "0  0.006625  0.003435  0.020138  0.025642  0.003296  0.035579  \n",
       "1  0.028181  0.019890  0.031087  0.035353  0.020892  0.022462  \n",
       "2  0.002686  0.038140  0.026940  0.036653  0.021429  0.020893  \n",
       "3  0.012256  0.036479  0.023428  0.009729  0.003791  0.011825  \n",
       "4  0.010585  0.000481  0.036388  0.030084  0.023404  0.005715  \n",
       "\n",
       "[5 rows x 53 columns]"
      ]
     },
     "execution_count": 488,
     "metadata": {},
     "output_type": "execute_result"
    }
   ],
   "source": [
    "data={'Returns': mu, 'Volatility': std}\n",
    "\n",
    "for i in range(len(p_weights)):\n",
    "    data[ 'Sharpe ratio' ] = [ i for i in Sharpe ]   \n",
    "    \n",
    "for counter, symbol in enumerate(ret.columns.tolist()):\n",
    "    data[ symbol ] = [ w[counter] for w in p_weights ]\n",
    "\n",
    "portfolios = pd.DataFrame(data)\n",
    "portfolios.head()"
   ]
  },
  {
   "cell_type": "code",
   "execution_count": 492,
   "metadata": {},
   "outputs": [
    {
     "data": {
      "text/plain": [
       "Text(0.0330748049135817, 1.0113962159540237, '1/N')"
      ]
     },
     "execution_count": 492,
     "metadata": {},
     "output_type": "execute_result"
    },
    {
     "data": {
      "image/png": "[encoded data removed]",
      "text/plain": [
       "<Figure size 432x288 with 1 Axes>"
      ]
     },
     "metadata": {
      "needs_background": "light"
     },
     "output_type": "display_data"
    }
   ],
   "source": [
    "min_risk = portfolios.iloc[portfolios['Volatility'].idxmin()]\n",
    "opt_Sharpe = portfolios.iloc[portfolios['Sharpe ratio'].idxmax()]\n",
    "\n",
    "portfolios.plot.scatter(x='Volatility', y='Returns',color='orange')\n",
    "plt.scatter(min_risk[1], min_risk[0],color='black',marker='*')\n",
    "plt.scatter(opt_Sharpe[1], opt_Sharpe[0],color='purple',marker='*')\n",
    "plt.scatter(N_std,N_mu,color='blue',marker='*')\n",
    "plt.text(min_risk[1], min_risk[0], 'rand sim min-risk')\n",
    "plt.text(opt_Sharpe[1], opt_Sharpe[0], 'rand sim Sharpe')\n",
    "plt.text(N_std,N_mu, '1/N')"
   ]
  },
  {
   "cell_type": "code",
   "execution_count": 292,
   "metadata": {},
   "outputs": [],
   "source": [
    "countries=['UNITED STATES','CANADA','CHINA','JAPAN','UNITED KINGDOM','GERMANY','SWITZERLAND','FRANCE','FINLAND','DENMARK','NETHERLANDS']\n",
    "limit=0.2"
   ]
  },
  {
   "cell_type": "code",
   "execution_count": 153,
   "metadata": {},
   "outputs": [],
   "source": [
    "# define the function to check no country exposure exceeds 20%\n",
    "\n",
    "def check_limit(table, countries, limit):\n",
    "    for i in countries:\n",
    "        if table.loc[table['Country'] == i, 'weights'].sum() < -limit :\n",
    "            print('Short exposure to ', i, ' exceeds ', 100*limit, '% !  Unfeasible.')\n",
    "        elif table.loc[table['Country'] == i, 'weights'].sum() <= limit :\n",
    "            continue            \n",
    "        else: \n",
    "            print('Exposure to ', i, ' exceeds ', 100*limit, '% !  Unfeasible.')\n",
    "            "
   ]
  },
  {
   "cell_type": "code",
   "execution_count": 479,
   "metadata": {},
   "outputs": [
    {
     "name": "stdout",
     "output_type": "stream",
     "text": [
      "Exposure to  CANADA  exceeds  20.0 % !  Unfeasible.\n"
     ]
    }
   ],
   "source": [
    "d={'Security ID': min_risk.index[3:], 'weights': min_risk[3:]}\n",
    "d=pd.DataFrame(d)\n",
    "dt = country.merge(d, 'left', 'Security ID')\n",
    "check_limit(dt,countries,limit)"
   ]
  },
  {
   "cell_type": "code",
   "execution_count": 480,
   "metadata": {},
   "outputs": [
    {
     "data": {
      "text/plain": [
       "Returns         1.010229\n",
       "Volatility      0.028933\n",
       "Sharpe ratio    0.353527\n",
       "Name: 7032, dtype: float64"
      ]
     },
     "execution_count": 480,
     "metadata": {},
     "output_type": "execute_result"
    }
   ],
   "source": [
    "min_risk[:3]"
   ]
  },
  {
   "cell_type": "code",
   "execution_count": 481,
   "metadata": {},
   "outputs": [
    {
     "name": "stdout",
     "output_type": "stream",
     "text": [
      "Exposure to  UNITED STATES  exceeds  20.0 % !  Unfeasible.\n"
     ]
    }
   ],
   "source": [
    "d={'Security ID': opt_Sharpe.index[3:], 'weights': opt_Sharpe[3:]}\n",
    "d=pd.DataFrame(d)\n",
    "dt = country.merge(d, 'left', 'Security ID')\n",
    "check_limit(dt,countries,limit)"
   ]
  },
  {
   "cell_type": "code",
   "execution_count": 482,
   "metadata": {},
   "outputs": [
    {
     "data": {
      "text/plain": [
       "Returns         1.012590\n",
       "Volatility      0.030860\n",
       "Sharpe ratio    0.407982\n",
       "Name: 5510, dtype: float64"
      ]
     },
     "execution_count": 482,
     "metadata": {},
     "output_type": "execute_result"
    }
   ],
   "source": [
    "opt_Sharpe[:3]"
   ]
  },
  {
   "cell_type": "code",
   "execution_count": 483,
   "metadata": {},
   "outputs": [
    {
     "name": "stdout",
     "output_type": "stream",
     "text": [
      "Exposure to  UNITED STATES  exceeds  20.0 % !  Unfeasible.\n"
     ]
    }
   ],
   "source": [
    "# explore the second best optimal portfolio in terms of Sharpe ratio\n",
    "\n",
    "second_opt_Sharpe = portfolios.iloc[portfolios['Sharpe ratio'].sort_values().index[-2]]\n",
    "d={'Security ID': second_opt_Sharpe.index[3:], 'weights': second_opt_Sharpe[3:]}\n",
    "d=pd.DataFrame(d)\n",
    "dt = country.merge(d, 'left', 'Security ID')\n",
    "check_limit(dt,countries,limit)"
   ]
  },
  {
   "cell_type": "markdown",
   "metadata": {},
   "source": [
    "### Now we need to filter out the randomly sampled weights vectors that violate the 20% exposure limit constraint"
   ]
  },
  {
   "cell_type": "code",
   "execution_count": 393,
   "metadata": {},
   "outputs": [],
   "source": [
    "# define the function to check the weights vector that no country exposure exceeds 20%\n",
    "def check_weights(table, countries, limit):\n",
    "    for i in countries:\n",
    "        if table.loc[table['Country'] == i, 'weights'].sum() < -limit :\n",
    "            return False\n",
    "            break\n",
    "        elif table.loc[table['Country'] == i, 'weights'].sum() <= limit :\n",
    "            continue            \n",
    "        else: \n",
    "            return False\n",
    "            break\n",
    "            "
   ]
  },
  {
   "cell_type": "markdown",
   "metadata": {},
   "source": [
    "#### Use a uniform random weights sampling from (-0.02, 0.02) range. This allows both long and short exposures."
   ]
  },
  {
   "cell_type": "code",
   "execution_count": 496,
   "metadata": {},
   "outputs": [],
   "source": [
    "mu=[]\n",
    "std=[]\n",
    "p_weights=[]\n",
    "Sharpe=[]\n",
    "\n",
    "for i in range(10000):\n",
    "    weight = np.random.uniform(-0.02,0.02,50)\n",
    "    weights = weight/sum(weight)\n",
    "    d={'Security ID': country['Security ID'], 'weights': weights}\n",
    "    d=pd.DataFrame(d)\n",
    "    dt = country.merge(d, 'left', 'Security ID')\n",
    "    if check_weights(dt, countries, limit) == False:\n",
    "        continue\n",
    "    p_weights.append(weights)\n",
    "    mu.append(np.transpose(weights).dot(ret.mean()))\n",
    "    std.append(np.sqrt(np.transpose(weights).dot(ret.cov()).dot(weights)))\n",
    "    # Sharpe ratio for each portfolio, assume rf=0\n",
    "    Sharpe.append((np.transpose(weights).dot(ret.mean())-1)/np.sqrt(np.transpose(weights).dot(ret.cov()).dot(weights)))\n",
    "    # plt.scatter(std[i],mu[i])"
   ]
  },
  {
   "cell_type": "code",
   "execution_count": 497,
   "metadata": {},
   "outputs": [
    {
     "data": {
      "text/html": [
       "<div>\n",
       "<style scoped>\n",
       "    .dataframe tbody tr th:only-of-type {\n",
       "        vertical-align: middle;\n",
       "    }\n",
       "\n",
       "    .dataframe tbody tr th {\n",
       "        vertical-align: top;\n",
       "    }\n",
       "\n",
       "    .dataframe thead th {\n",
       "        text-align: right;\n",
       "    }\n",
       "</style>\n",
       "<table border=\"1\" class=\"dataframe\">\n",
       "  <thead>\n",
       "    <tr style=\"text-align: right;\">\n",
       "      <th></th>\n",
       "      <th>Returns</th>\n",
       "      <th>Volatility</th>\n",
       "      <th>Sharpe ratio</th>\n",
       "      <th>CM-CA</th>\n",
       "      <th>BMO-CA</th>\n",
       "      <th>TD-CA</th>\n",
       "      <th>BNS-CA</th>\n",
       "      <th>NA-CA</th>\n",
       "      <th>BCE-CA</th>\n",
       "      <th>EMP.A-CA</th>\n",
       "      <th>...</th>\n",
       "      <th>AAPL-US</th>\n",
       "      <th>JPM-US</th>\n",
       "      <th>PG-US</th>\n",
       "      <th>INTC-US</th>\n",
       "      <th>VZ-US</th>\n",
       "      <th>DIS-US</th>\n",
       "      <th>MSFT-US</th>\n",
       "      <th>AMZN-US</th>\n",
       "      <th>UPS-US</th>\n",
       "      <th>GOOGL-US</th>\n",
       "    </tr>\n",
       "  </thead>\n",
       "  <tbody>\n",
       "    <tr>\n",
       "      <th>0</th>\n",
       "      <td>1.016769</td>\n",
       "      <td>0.067731</td>\n",
       "      <td>0.247577</td>\n",
       "      <td>0.136046</td>\n",
       "      <td>0.041024</td>\n",
       "      <td>0.051399</td>\n",
       "      <td>-0.105082</td>\n",
       "      <td>-0.026946</td>\n",
       "      <td>-0.065274</td>\n",
       "      <td>0.129416</td>\n",
       "      <td>...</td>\n",
       "      <td>0.004310</td>\n",
       "      <td>-0.139241</td>\n",
       "      <td>-0.132273</td>\n",
       "      <td>0.034253</td>\n",
       "      <td>-0.190589</td>\n",
       "      <td>0.171120</td>\n",
       "      <td>0.203405</td>\n",
       "      <td>0.172913</td>\n",
       "      <td>-0.149566</td>\n",
       "      <td>0.205728</td>\n",
       "    </tr>\n",
       "    <tr>\n",
       "      <th>1</th>\n",
       "      <td>1.007940</td>\n",
       "      <td>0.049280</td>\n",
       "      <td>0.161122</td>\n",
       "      <td>0.017648</td>\n",
       "      <td>0.029706</td>\n",
       "      <td>0.173703</td>\n",
       "      <td>0.016766</td>\n",
       "      <td>-0.039581</td>\n",
       "      <td>0.062916</td>\n",
       "      <td>-0.167425</td>\n",
       "      <td>...</td>\n",
       "      <td>0.157235</td>\n",
       "      <td>-0.086705</td>\n",
       "      <td>0.136820</td>\n",
       "      <td>0.063816</td>\n",
       "      <td>0.106448</td>\n",
       "      <td>-0.080323</td>\n",
       "      <td>-0.116618</td>\n",
       "      <td>0.019373</td>\n",
       "      <td>0.043397</td>\n",
       "      <td>-0.081033</td>\n",
       "    </tr>\n",
       "    <tr>\n",
       "      <th>2</th>\n",
       "      <td>1.010056</td>\n",
       "      <td>0.042729</td>\n",
       "      <td>0.235341</td>\n",
       "      <td>0.092519</td>\n",
       "      <td>0.018715</td>\n",
       "      <td>-0.002575</td>\n",
       "      <td>-0.075249</td>\n",
       "      <td>0.092234</td>\n",
       "      <td>-0.007191</td>\n",
       "      <td>-0.063080</td>\n",
       "      <td>...</td>\n",
       "      <td>-0.047083</td>\n",
       "      <td>-0.051103</td>\n",
       "      <td>0.082613</td>\n",
       "      <td>0.052696</td>\n",
       "      <td>0.082448</td>\n",
       "      <td>-0.003452</td>\n",
       "      <td>-0.077261</td>\n",
       "      <td>-0.066216</td>\n",
       "      <td>-0.021886</td>\n",
       "      <td>0.092490</td>\n",
       "    </tr>\n",
       "    <tr>\n",
       "      <th>3</th>\n",
       "      <td>1.010699</td>\n",
       "      <td>0.040732</td>\n",
       "      <td>0.262672</td>\n",
       "      <td>0.070773</td>\n",
       "      <td>0.061100</td>\n",
       "      <td>-0.044520</td>\n",
       "      <td>0.073933</td>\n",
       "      <td>-0.044626</td>\n",
       "      <td>-0.082480</td>\n",
       "      <td>0.080225</td>\n",
       "      <td>...</td>\n",
       "      <td>0.041375</td>\n",
       "      <td>0.066599</td>\n",
       "      <td>0.062061</td>\n",
       "      <td>-0.079154</td>\n",
       "      <td>-0.027792</td>\n",
       "      <td>0.041392</td>\n",
       "      <td>-0.085788</td>\n",
       "      <td>-0.045468</td>\n",
       "      <td>0.076416</td>\n",
       "      <td>0.082280</td>\n",
       "    </tr>\n",
       "    <tr>\n",
       "      <th>4</th>\n",
       "      <td>1.010008</td>\n",
       "      <td>0.051053</td>\n",
       "      <td>0.196024</td>\n",
       "      <td>0.126429</td>\n",
       "      <td>-0.030772</td>\n",
       "      <td>-0.114879</td>\n",
       "      <td>0.025793</td>\n",
       "      <td>0.047851</td>\n",
       "      <td>-0.062014</td>\n",
       "      <td>0.092619</td>\n",
       "      <td>...</td>\n",
       "      <td>-0.000165</td>\n",
       "      <td>-0.082934</td>\n",
       "      <td>-0.138971</td>\n",
       "      <td>-0.006287</td>\n",
       "      <td>-0.004319</td>\n",
       "      <td>0.067139</td>\n",
       "      <td>0.121353</td>\n",
       "      <td>0.049532</td>\n",
       "      <td>-0.072084</td>\n",
       "      <td>0.079340</td>\n",
       "    </tr>\n",
       "  </tbody>\n",
       "</table>\n",
       "<p>5 rows × 53 columns</p>\n",
       "</div>"
      ],
      "text/plain": [
       "    Returns  Volatility  Sharpe ratio     CM-CA    BMO-CA     TD-CA    BNS-CA  \\\n",
       "0  1.016769    0.067731      0.247577  0.136046  0.041024  0.051399 -0.105082   \n",
       "1  1.007940    0.049280      0.161122  0.017648  0.029706  0.173703  0.016766   \n",
       "2  1.010056    0.042729      0.235341  0.092519  0.018715 -0.002575 -0.075249   \n",
       "3  1.010699    0.040732      0.262672  0.070773  0.061100 -0.044520  0.073933   \n",
       "4  1.010008    0.051053      0.196024  0.126429 -0.030772 -0.114879  0.025793   \n",
       "\n",
       "      NA-CA    BCE-CA  EMP.A-CA  ...   AAPL-US    JPM-US     PG-US   INTC-US  \\\n",
       "0 -0.026946 -0.065274  0.129416  ...  0.004310 -0.139241 -0.132273  0.034253   \n",
       "1 -0.039581  0.062916 -0.167425  ...  0.157235 -0.086705  0.136820  0.063816   \n",
       "2  0.092234 -0.007191 -0.063080  ... -0.047083 -0.051103  0.082613  0.052696   \n",
       "3 -0.044626 -0.082480  0.080225  ...  0.041375  0.066599  0.062061 -0.079154   \n",
       "4  0.047851 -0.062014  0.092619  ... -0.000165 -0.082934 -0.138971 -0.006287   \n",
       "\n",
       "      VZ-US    DIS-US   MSFT-US   AMZN-US    UPS-US  GOOGL-US  \n",
       "0 -0.190589  0.171120  0.203405  0.172913 -0.149566  0.205728  \n",
       "1  0.106448 -0.080323 -0.116618  0.019373  0.043397 -0.081033  \n",
       "2  0.082448 -0.003452 -0.077261 -0.066216 -0.021886  0.092490  \n",
       "3 -0.027792  0.041392 -0.085788 -0.045468  0.076416  0.082280  \n",
       "4 -0.004319  0.067139  0.121353  0.049532 -0.072084  0.079340  \n",
       "\n",
       "[5 rows x 53 columns]"
      ]
     },
     "execution_count": 497,
     "metadata": {},
     "output_type": "execute_result"
    }
   ],
   "source": [
    "data={'Returns': mu, 'Volatility': std}\n",
    "\n",
    "for i in range(len(p_weights)):\n",
    "    data[ 'Sharpe ratio' ] = [ i for i in Sharpe ]   \n",
    "    \n",
    "for counter, symbol in enumerate(ret.columns.tolist()):\n",
    "    data[ symbol ] = [ w[counter] for w in p_weights ]\n",
    "\n",
    "portfolios = pd.DataFrame(data)\n",
    "portfolios.head()"
   ]
  },
  {
   "cell_type": "code",
   "execution_count": 498,
   "metadata": {},
   "outputs": [
    {
     "data": {
      "text/plain": [
       "Text(0.0330748049135817, 1.0113962159540237, '1/N')"
      ]
     },
     "execution_count": 498,
     "metadata": {},
     "output_type": "execute_result"
    },
    {
     "data": {
      "image/png": "[encoded data removed]",
      "text/plain": [
       "<Figure size 432x288 with 1 Axes>"
      ]
     },
     "metadata": {
      "needs_background": "light"
     },
     "output_type": "display_data"
    }
   ],
   "source": [
    "min_risk = portfolios.iloc[portfolios['Volatility'].idxmin()]\n",
    "opt_Sharpe = portfolios.iloc[portfolios['Sharpe ratio'].idxmax()]\n",
    "\n",
    "portfolios.plot.scatter(x='Volatility', y='Returns',color='orange')\n",
    "plt.scatter(min_risk[1], min_risk[0],color='black',marker='*')\n",
    "plt.scatter(opt_Sharpe[1], opt_Sharpe[0],color='purple',marker='*')\n",
    "plt.scatter(N_std,N_mu,color='blue',marker='*')\n",
    "plt.text(min_risk[1], min_risk[0], 'rand sim min-risk')\n",
    "plt.text(opt_Sharpe[1], opt_Sharpe[0], 'rand sim Sharpe')\n",
    "plt.text(N_std,N_mu, '1/N')"
   ]
  },
  {
   "cell_type": "markdown",
   "metadata": {},
   "source": [
    "#### Note that due to the (-0.2, 0.2) sampling range, the allowable portfolios under the constraint are too sparse. "
   ]
  },
  {
   "cell_type": "code",
   "execution_count": 499,
   "metadata": {},
   "outputs": [
    {
     "data": {
      "text/plain": [
       "Returns         1.007514\n",
       "Volatility      0.040006\n",
       "Sharpe ratio    0.187822\n",
       "Name: 6, dtype: float64"
      ]
     },
     "execution_count": 499,
     "metadata": {},
     "output_type": "execute_result"
    }
   ],
   "source": [
    "min_risk[:3]"
   ]
  },
  {
   "cell_type": "code",
   "execution_count": 500,
   "metadata": {},
   "outputs": [
    {
     "data": {
      "text/plain": [
       "Returns         1.012951\n",
       "Volatility      0.047180\n",
       "Sharpe ratio    0.274509\n",
       "Name: 5, dtype: float64"
      ]
     },
     "execution_count": 500,
     "metadata": {},
     "output_type": "execute_result"
    }
   ],
   "source": [
    "opt_Sharpe[:3]"
   ]
  },
  {
   "cell_type": "markdown",
   "metadata": {},
   "source": [
    "#### Try a new sampling range (-0.01, 0.05), focus on long exposures, limit short exposures"
   ]
  },
  {
   "cell_type": "code",
   "execution_count": 501,
   "metadata": {},
   "outputs": [],
   "source": [
    "mu=[]\n",
    "std=[]\n",
    "p_weights=[]\n",
    "Sharpe=[]\n",
    "\n",
    "for i in range(10000):\n",
    "    weight = np.random.uniform(-0.01,0.05,50)\n",
    "    weights = weight/sum(weight)\n",
    "    d={'Security ID': country['Security ID'], 'weights': weights}\n",
    "    d=pd.DataFrame(d)\n",
    "    dt = country.merge(d, 'left', 'Security ID')\n",
    "    if check_weights(dt, countries, limit) == False:\n",
    "        continue\n",
    "    p_weights.append(weights)\n",
    "    mu.append(np.transpose(weights).dot(ret.mean()))\n",
    "    std.append(np.sqrt(np.transpose(weights).dot(ret.cov()).dot(weights)))\n",
    "    # Sharpe ratio for each portfolio, assume rf=0\n",
    "    Sharpe.append((np.transpose(weights).dot(ret.mean())-1)/np.sqrt(np.transpose(weights).dot(ret.cov()).dot(weights)))\n",
    "    # plt.scatter(std[i],mu[i])"
   ]
  },
  {
   "cell_type": "code",
   "execution_count": 502,
   "metadata": {},
   "outputs": [
    {
     "data": {
      "text/html": [
       "<div>\n",
       "<style scoped>\n",
       "    .dataframe tbody tr th:only-of-type {\n",
       "        vertical-align: middle;\n",
       "    }\n",
       "\n",
       "    .dataframe tbody tr th {\n",
       "        vertical-align: top;\n",
       "    }\n",
       "\n",
       "    .dataframe thead th {\n",
       "        text-align: right;\n",
       "    }\n",
       "</style>\n",
       "<table border=\"1\" class=\"dataframe\">\n",
       "  <thead>\n",
       "    <tr style=\"text-align: right;\">\n",
       "      <th></th>\n",
       "      <th>Returns</th>\n",
       "      <th>Volatility</th>\n",
       "      <th>Sharpe ratio</th>\n",
       "      <th>CM-CA</th>\n",
       "      <th>BMO-CA</th>\n",
       "      <th>TD-CA</th>\n",
       "      <th>BNS-CA</th>\n",
       "      <th>NA-CA</th>\n",
       "      <th>BCE-CA</th>\n",
       "      <th>EMP.A-CA</th>\n",
       "      <th>...</th>\n",
       "      <th>AAPL-US</th>\n",
       "      <th>JPM-US</th>\n",
       "      <th>PG-US</th>\n",
       "      <th>INTC-US</th>\n",
       "      <th>VZ-US</th>\n",
       "      <th>DIS-US</th>\n",
       "      <th>MSFT-US</th>\n",
       "      <th>AMZN-US</th>\n",
       "      <th>UPS-US</th>\n",
       "      <th>GOOGL-US</th>\n",
       "    </tr>\n",
       "  </thead>\n",
       "  <tbody>\n",
       "    <tr>\n",
       "      <th>0</th>\n",
       "      <td>1.010185</td>\n",
       "      <td>0.037281</td>\n",
       "      <td>0.273207</td>\n",
       "      <td>0.036175</td>\n",
       "      <td>-0.004195</td>\n",
       "      <td>0.035235</td>\n",
       "      <td>0.008104</td>\n",
       "      <td>0.040287</td>\n",
       "      <td>-0.004229</td>\n",
       "      <td>0.007049</td>\n",
       "      <td>...</td>\n",
       "      <td>0.020914</td>\n",
       "      <td>0.018647</td>\n",
       "      <td>0.004701</td>\n",
       "      <td>0.000540</td>\n",
       "      <td>0.011934</td>\n",
       "      <td>-0.008040</td>\n",
       "      <td>0.029251</td>\n",
       "      <td>0.004281</td>\n",
       "      <td>0.053400</td>\n",
       "      <td>0.010192</td>\n",
       "    </tr>\n",
       "    <tr>\n",
       "      <th>1</th>\n",
       "      <td>1.011923</td>\n",
       "      <td>0.036626</td>\n",
       "      <td>0.325521</td>\n",
       "      <td>-0.008289</td>\n",
       "      <td>0.038589</td>\n",
       "      <td>-0.001641</td>\n",
       "      <td>0.041162</td>\n",
       "      <td>0.026892</td>\n",
       "      <td>-0.005914</td>\n",
       "      <td>0.024235</td>\n",
       "      <td>...</td>\n",
       "      <td>0.031494</td>\n",
       "      <td>0.031474</td>\n",
       "      <td>0.024095</td>\n",
       "      <td>0.003100</td>\n",
       "      <td>-0.002222</td>\n",
       "      <td>0.041985</td>\n",
       "      <td>0.035568</td>\n",
       "      <td>0.004936</td>\n",
       "      <td>-0.010279</td>\n",
       "      <td>-0.009821</td>\n",
       "    </tr>\n",
       "    <tr>\n",
       "      <th>2</th>\n",
       "      <td>1.012376</td>\n",
       "      <td>0.033295</td>\n",
       "      <td>0.371702</td>\n",
       "      <td>-0.002304</td>\n",
       "      <td>0.033280</td>\n",
       "      <td>0.038418</td>\n",
       "      <td>0.008365</td>\n",
       "      <td>0.016345</td>\n",
       "      <td>0.021622</td>\n",
       "      <td>0.036332</td>\n",
       "      <td>...</td>\n",
       "      <td>0.039190</td>\n",
       "      <td>0.006856</td>\n",
       "      <td>0.005944</td>\n",
       "      <td>0.009870</td>\n",
       "      <td>-0.007969</td>\n",
       "      <td>0.042969</td>\n",
       "      <td>0.003694</td>\n",
       "      <td>0.037926</td>\n",
       "      <td>0.004838</td>\n",
       "      <td>0.022318</td>\n",
       "    </tr>\n",
       "    <tr>\n",
       "      <th>3</th>\n",
       "      <td>1.010884</td>\n",
       "      <td>0.033586</td>\n",
       "      <td>0.324061</td>\n",
       "      <td>0.015697</td>\n",
       "      <td>0.008979</td>\n",
       "      <td>-0.010579</td>\n",
       "      <td>0.024666</td>\n",
       "      <td>0.027941</td>\n",
       "      <td>0.011915</td>\n",
       "      <td>0.013557</td>\n",
       "      <td>...</td>\n",
       "      <td>-0.009525</td>\n",
       "      <td>-0.004659</td>\n",
       "      <td>0.001468</td>\n",
       "      <td>0.003067</td>\n",
       "      <td>0.047022</td>\n",
       "      <td>0.040580</td>\n",
       "      <td>-0.001557</td>\n",
       "      <td>0.012982</td>\n",
       "      <td>0.050277</td>\n",
       "      <td>-0.005445</td>\n",
       "    </tr>\n",
       "    <tr>\n",
       "      <th>4</th>\n",
       "      <td>1.009872</td>\n",
       "      <td>0.034523</td>\n",
       "      <td>0.285941</td>\n",
       "      <td>0.034071</td>\n",
       "      <td>0.037436</td>\n",
       "      <td>0.005900</td>\n",
       "      <td>0.013011</td>\n",
       "      <td>0.015515</td>\n",
       "      <td>0.013185</td>\n",
       "      <td>-0.008571</td>\n",
       "      <td>...</td>\n",
       "      <td>0.020786</td>\n",
       "      <td>0.019232</td>\n",
       "      <td>0.046634</td>\n",
       "      <td>0.014943</td>\n",
       "      <td>0.004265</td>\n",
       "      <td>-0.004237</td>\n",
       "      <td>0.046979</td>\n",
       "      <td>-0.009817</td>\n",
       "      <td>0.046064</td>\n",
       "      <td>0.011247</td>\n",
       "    </tr>\n",
       "  </tbody>\n",
       "</table>\n",
       "<p>5 rows × 53 columns</p>\n",
       "</div>"
      ],
      "text/plain": [
       "    Returns  Volatility  Sharpe ratio     CM-CA    BMO-CA     TD-CA    BNS-CA  \\\n",
       "0  1.010185    0.037281      0.273207  0.036175 -0.004195  0.035235  0.008104   \n",
       "1  1.011923    0.036626      0.325521 -0.008289  0.038589 -0.001641  0.041162   \n",
       "2  1.012376    0.033295      0.371702 -0.002304  0.033280  0.038418  0.008365   \n",
       "3  1.010884    0.033586      0.324061  0.015697  0.008979 -0.010579  0.024666   \n",
       "4  1.009872    0.034523      0.285941  0.034071  0.037436  0.005900  0.013011   \n",
       "\n",
       "      NA-CA    BCE-CA  EMP.A-CA  ...   AAPL-US    JPM-US     PG-US   INTC-US  \\\n",
       "0  0.040287 -0.004229  0.007049  ...  0.020914  0.018647  0.004701  0.000540   \n",
       "1  0.026892 -0.005914  0.024235  ...  0.031494  0.031474  0.024095  0.003100   \n",
       "2  0.016345  0.021622  0.036332  ...  0.039190  0.006856  0.005944  0.009870   \n",
       "3  0.027941  0.011915  0.013557  ... -0.009525 -0.004659  0.001468  0.003067   \n",
       "4  0.015515  0.013185 -0.008571  ...  0.020786  0.019232  0.046634  0.014943   \n",
       "\n",
       "      VZ-US    DIS-US   MSFT-US   AMZN-US    UPS-US  GOOGL-US  \n",
       "0  0.011934 -0.008040  0.029251  0.004281  0.053400  0.010192  \n",
       "1 -0.002222  0.041985  0.035568  0.004936 -0.010279 -0.009821  \n",
       "2 -0.007969  0.042969  0.003694  0.037926  0.004838  0.022318  \n",
       "3  0.047022  0.040580 -0.001557  0.012982  0.050277 -0.005445  \n",
       "4  0.004265 -0.004237  0.046979 -0.009817  0.046064  0.011247  \n",
       "\n",
       "[5 rows x 53 columns]"
      ]
     },
     "execution_count": 502,
     "metadata": {},
     "output_type": "execute_result"
    }
   ],
   "source": [
    "data={'Returns': mu, 'Volatility': std}\n",
    "\n",
    "for i in range(len(p_weights)):\n",
    "    data[ 'Sharpe ratio' ] = [ i for i in Sharpe ]   \n",
    "    \n",
    "for counter, symbol in enumerate(ret.columns.tolist()):\n",
    "    data[ symbol ] = [ w[counter] for w in p_weights ]\n",
    "\n",
    "portfolios = pd.DataFrame(data)\n",
    "portfolios.head()"
   ]
  },
  {
   "cell_type": "code",
   "execution_count": 504,
   "metadata": {},
   "outputs": [
    {
     "data": {
      "text/plain": [
       "Text(0.0330748049135817, 1.0113962159540237, '1/N')"
      ]
     },
     "execution_count": 504,
     "metadata": {},
     "output_type": "execute_result"
    },
    {
     "data": {
      "image/png": "[encoded data removed]",
      "text/plain": [
       "<Figure size 432x288 with 1 Axes>"
      ]
     },
     "metadata": {
      "needs_background": "light"
     },
     "output_type": "display_data"
    }
   ],
   "source": [
    "min_risk = portfolios.iloc[portfolios['Volatility'].idxmin()]\n",
    "opt_Sharpe = portfolios.iloc[portfolios['Sharpe ratio'].idxmax()]\n",
    "\n",
    "portfolios.plot.scatter(x='Volatility', y='Returns',color='orange')\n",
    "plt.scatter(min_risk[1], min_risk[0],color='black',marker='*')\n",
    "plt.scatter(opt_Sharpe[1], opt_Sharpe[0],color='purple',marker='*')\n",
    "plt.scatter(N_std,N_mu,color='blue',marker='*')\n",
    "plt.text(min_risk[1], min_risk[0], 'rand sim min-risk')\n",
    "plt.text(opt_Sharpe[1], opt_Sharpe[0], 'rand sim Sharpe')\n",
    "plt.text(N_std,N_mu, '1/N')"
   ]
  },
  {
   "cell_type": "code",
   "execution_count": 506,
   "metadata": {},
   "outputs": [
    {
     "data": {
      "text/plain": [
       "Returns         1.009448\n",
       "Volatility      0.028529\n",
       "Sharpe ratio    0.331183\n",
       "Name: 308, dtype: float64"
      ]
     },
     "execution_count": 506,
     "metadata": {},
     "output_type": "execute_result"
    }
   ],
   "source": [
    "min_risk[:3]"
   ]
  },
  {
   "cell_type": "code",
   "execution_count": 507,
   "metadata": {},
   "outputs": [
    {
     "data": {
      "text/plain": [
       "Returns         1.011873\n",
       "Volatility      0.030246\n",
       "Sharpe ratio    0.392532\n",
       "Name: 268, dtype: float64"
      ]
     },
     "execution_count": 507,
     "metadata": {},
     "output_type": "execute_result"
    }
   ],
   "source": [
    "opt_Sharpe[:3]"
   ]
  },
  {
   "cell_type": "markdown",
   "metadata": {},
   "source": [
    "### Now come back to using the (0,1) range, with the filter on"
   ]
  },
  {
   "cell_type": "code",
   "execution_count": 508,
   "metadata": {},
   "outputs": [],
   "source": [
    "mu=[]\n",
    "std=[]\n",
    "p_weights=[]\n",
    "Sharpe=[]\n",
    "\n",
    "for i in range(10000):\n",
    "    weight = np.random.uniform(0,1,50)\n",
    "    weights = weight/sum(weight)\n",
    "    d={'Security ID': country['Security ID'], 'weights': weights}\n",
    "    d=pd.DataFrame(d)\n",
    "    dt = country.merge(d, 'left', 'Security ID')\n",
    "    if check_weights(dt, countries, limit) == False:\n",
    "        continue\n",
    "    p_weights.append(weights)\n",
    "    mu.append(np.transpose(weights).dot(ret.mean()))\n",
    "    std.append(np.sqrt(np.transpose(weights).dot(ret.cov()).dot(weights)))\n",
    "    # Sharpe ratio for each portfolio, assume rf=0\n",
    "    Sharpe.append((np.transpose(weights).dot(ret.mean())-1)/np.sqrt(np.transpose(weights).dot(ret.cov()).dot(weights)))\n",
    "    # plt.scatter(std[i],mu[i])"
   ]
  },
  {
   "cell_type": "code",
   "execution_count": 509,
   "metadata": {},
   "outputs": [
    {
     "data": {
      "text/html": [
       "<div>\n",
       "<style scoped>\n",
       "    .dataframe tbody tr th:only-of-type {\n",
       "        vertical-align: middle;\n",
       "    }\n",
       "\n",
       "    .dataframe tbody tr th {\n",
       "        vertical-align: top;\n",
       "    }\n",
       "\n",
       "    .dataframe thead th {\n",
       "        text-align: right;\n",
       "    }\n",
       "</style>\n",
       "<table border=\"1\" class=\"dataframe\">\n",
       "  <thead>\n",
       "    <tr style=\"text-align: right;\">\n",
       "      <th></th>\n",
       "      <th>Returns</th>\n",
       "      <th>Volatility</th>\n",
       "      <th>Sharpe ratio</th>\n",
       "      <th>CM-CA</th>\n",
       "      <th>BMO-CA</th>\n",
       "      <th>TD-CA</th>\n",
       "      <th>BNS-CA</th>\n",
       "      <th>NA-CA</th>\n",
       "      <th>BCE-CA</th>\n",
       "      <th>EMP.A-CA</th>\n",
       "      <th>...</th>\n",
       "      <th>AAPL-US</th>\n",
       "      <th>JPM-US</th>\n",
       "      <th>PG-US</th>\n",
       "      <th>INTC-US</th>\n",
       "      <th>VZ-US</th>\n",
       "      <th>DIS-US</th>\n",
       "      <th>MSFT-US</th>\n",
       "      <th>AMZN-US</th>\n",
       "      <th>UPS-US</th>\n",
       "      <th>GOOGL-US</th>\n",
       "    </tr>\n",
       "  </thead>\n",
       "  <tbody>\n",
       "    <tr>\n",
       "      <th>0</th>\n",
       "      <td>1.011353</td>\n",
       "      <td>0.032435</td>\n",
       "      <td>0.350041</td>\n",
       "      <td>0.037677</td>\n",
       "      <td>0.029606</td>\n",
       "      <td>0.006333</td>\n",
       "      <td>0.008795</td>\n",
       "      <td>0.014409</td>\n",
       "      <td>0.016933</td>\n",
       "      <td>0.011672</td>\n",
       "      <td>...</td>\n",
       "      <td>0.030770</td>\n",
       "      <td>0.004813</td>\n",
       "      <td>0.015505</td>\n",
       "      <td>0.022893</td>\n",
       "      <td>0.008158</td>\n",
       "      <td>0.019241</td>\n",
       "      <td>0.025513</td>\n",
       "      <td>0.008728</td>\n",
       "      <td>0.027971</td>\n",
       "      <td>0.028390</td>\n",
       "    </tr>\n",
       "    <tr>\n",
       "      <th>1</th>\n",
       "      <td>1.011426</td>\n",
       "      <td>0.035916</td>\n",
       "      <td>0.318138</td>\n",
       "      <td>0.001891</td>\n",
       "      <td>0.002216</td>\n",
       "      <td>0.032157</td>\n",
       "      <td>0.024298</td>\n",
       "      <td>0.034650</td>\n",
       "      <td>0.036982</td>\n",
       "      <td>0.000019</td>\n",
       "      <td>...</td>\n",
       "      <td>0.010092</td>\n",
       "      <td>0.018615</td>\n",
       "      <td>0.019171</td>\n",
       "      <td>0.040855</td>\n",
       "      <td>0.006914</td>\n",
       "      <td>0.003883</td>\n",
       "      <td>0.009809</td>\n",
       "      <td>0.008967</td>\n",
       "      <td>0.019131</td>\n",
       "      <td>0.015903</td>\n",
       "    </tr>\n",
       "    <tr>\n",
       "      <th>2</th>\n",
       "      <td>1.011069</td>\n",
       "      <td>0.032509</td>\n",
       "      <td>0.340484</td>\n",
       "      <td>0.024393</td>\n",
       "      <td>0.003596</td>\n",
       "      <td>0.024514</td>\n",
       "      <td>0.012552</td>\n",
       "      <td>0.013328</td>\n",
       "      <td>0.023929</td>\n",
       "      <td>0.022065</td>\n",
       "      <td>...</td>\n",
       "      <td>0.000210</td>\n",
       "      <td>0.021991</td>\n",
       "      <td>0.011739</td>\n",
       "      <td>0.022462</td>\n",
       "      <td>0.031342</td>\n",
       "      <td>0.019713</td>\n",
       "      <td>0.005474</td>\n",
       "      <td>0.018769</td>\n",
       "      <td>0.037145</td>\n",
       "      <td>0.011607</td>\n",
       "    </tr>\n",
       "    <tr>\n",
       "      <th>3</th>\n",
       "      <td>1.010544</td>\n",
       "      <td>0.032889</td>\n",
       "      <td>0.320597</td>\n",
       "      <td>0.029140</td>\n",
       "      <td>0.028510</td>\n",
       "      <td>0.028923</td>\n",
       "      <td>0.007795</td>\n",
       "      <td>0.015200</td>\n",
       "      <td>0.005557</td>\n",
       "      <td>0.019027</td>\n",
       "      <td>...</td>\n",
       "      <td>0.022974</td>\n",
       "      <td>0.009295</td>\n",
       "      <td>0.039626</td>\n",
       "      <td>0.017663</td>\n",
       "      <td>0.005061</td>\n",
       "      <td>0.022061</td>\n",
       "      <td>0.010019</td>\n",
       "      <td>0.014089</td>\n",
       "      <td>0.001671</td>\n",
       "      <td>0.026104</td>\n",
       "    </tr>\n",
       "    <tr>\n",
       "      <th>4</th>\n",
       "      <td>1.011730</td>\n",
       "      <td>0.035398</td>\n",
       "      <td>0.331373</td>\n",
       "      <td>0.022752</td>\n",
       "      <td>0.029483</td>\n",
       "      <td>0.015471</td>\n",
       "      <td>0.005488</td>\n",
       "      <td>0.006148</td>\n",
       "      <td>0.012860</td>\n",
       "      <td>0.028749</td>\n",
       "      <td>...</td>\n",
       "      <td>0.024302</td>\n",
       "      <td>0.010668</td>\n",
       "      <td>0.010582</td>\n",
       "      <td>0.002054</td>\n",
       "      <td>0.016387</td>\n",
       "      <td>0.024185</td>\n",
       "      <td>0.022642</td>\n",
       "      <td>0.029894</td>\n",
       "      <td>0.005908</td>\n",
       "      <td>0.024987</td>\n",
       "    </tr>\n",
       "  </tbody>\n",
       "</table>\n",
       "<p>5 rows × 53 columns</p>\n",
       "</div>"
      ],
      "text/plain": [
       "    Returns  Volatility  Sharpe ratio     CM-CA    BMO-CA     TD-CA    BNS-CA  \\\n",
       "0  1.011353    0.032435      0.350041  0.037677  0.029606  0.006333  0.008795   \n",
       "1  1.011426    0.035916      0.318138  0.001891  0.002216  0.032157  0.024298   \n",
       "2  1.011069    0.032509      0.340484  0.024393  0.003596  0.024514  0.012552   \n",
       "3  1.010544    0.032889      0.320597  0.029140  0.028510  0.028923  0.007795   \n",
       "4  1.011730    0.035398      0.331373  0.022752  0.029483  0.015471  0.005488   \n",
       "\n",
       "      NA-CA    BCE-CA  EMP.A-CA  ...   AAPL-US    JPM-US     PG-US   INTC-US  \\\n",
       "0  0.014409  0.016933  0.011672  ...  0.030770  0.004813  0.015505  0.022893   \n",
       "1  0.034650  0.036982  0.000019  ...  0.010092  0.018615  0.019171  0.040855   \n",
       "2  0.013328  0.023929  0.022065  ...  0.000210  0.021991  0.011739  0.022462   \n",
       "3  0.015200  0.005557  0.019027  ...  0.022974  0.009295  0.039626  0.017663   \n",
       "4  0.006148  0.012860  0.028749  ...  0.024302  0.010668  0.010582  0.002054   \n",
       "\n",
       "      VZ-US    DIS-US   MSFT-US   AMZN-US    UPS-US  GOOGL-US  \n",
       "0  0.008158  0.019241  0.025513  0.008728  0.027971  0.028390  \n",
       "1  0.006914  0.003883  0.009809  0.008967  0.019131  0.015903  \n",
       "2  0.031342  0.019713  0.005474  0.018769  0.037145  0.011607  \n",
       "3  0.005061  0.022061  0.010019  0.014089  0.001671  0.026104  \n",
       "4  0.016387  0.024185  0.022642  0.029894  0.005908  0.024987  \n",
       "\n",
       "[5 rows x 53 columns]"
      ]
     },
     "execution_count": 509,
     "metadata": {},
     "output_type": "execute_result"
    }
   ],
   "source": [
    "data={'Returns': mu, 'Volatility': std}\n",
    "\n",
    "for i in range(len(p_weights)):\n",
    "    data[ 'Sharpe ratio' ] = [ i for i in Sharpe ]   \n",
    "    \n",
    "for counter, symbol in enumerate(ret.columns.tolist()):\n",
    "    data[ symbol ] = [ w[counter] for w in p_weights ]\n",
    "\n",
    "portfolios = pd.DataFrame(data)\n",
    "portfolios.head()"
   ]
  },
  {
   "cell_type": "code",
   "execution_count": 510,
   "metadata": {},
   "outputs": [
    {
     "data": {
      "text/plain": [
       "Text(0.0330748049135817, 1.0113962159540237, '1/N')"
      ]
     },
     "execution_count": 510,
     "metadata": {},
     "output_type": "execute_result"
    },
    {
     "data": {
      "image/png": "[encoded data removed]",
      "text/plain": [
       "<Figure size 432x288 with 1 Axes>"
      ]
     },
     "metadata": {
      "needs_background": "light"
     },
     "output_type": "display_data"
    }
   ],
   "source": [
    "min_risk = portfolios.iloc[portfolios['Volatility'].idxmin()]\n",
    "opt_Sharpe = portfolios.iloc[portfolios['Sharpe ratio'].idxmax()]\n",
    "\n",
    "portfolios.plot.scatter(x='Volatility', y='Returns',color='orange')\n",
    "plt.scatter(min_risk[1], min_risk[0],color='black',marker='*')\n",
    "plt.scatter(opt_Sharpe[1], opt_Sharpe[0],color='purple',marker='*')\n",
    "plt.scatter(N_std,N_mu,color='blue',marker='*')\n",
    "plt.text(min_risk[1], min_risk[0], 'rand sim min-risk')\n",
    "plt.text(opt_Sharpe[1], opt_Sharpe[0], 'rand sim Sharpe')\n",
    "plt.text(N_std,N_mu, '1/N')"
   ]
  },
  {
   "cell_type": "code",
   "execution_count": 512,
   "metadata": {},
   "outputs": [
    {
     "data": {
      "text/plain": [
       "Returns         1.009805\n",
       "Volatility      0.029287\n",
       "Sharpe ratio    0.334781\n",
       "Name: 297, dtype: float64"
      ]
     },
     "execution_count": 512,
     "metadata": {},
     "output_type": "execute_result"
    }
   ],
   "source": [
    "min_risk[:3]"
   ]
  },
  {
   "cell_type": "code",
   "execution_count": 513,
   "metadata": {},
   "outputs": [
    {
     "data": {
      "text/plain": [
       "Returns         1.012483\n",
       "Volatility      0.032115\n",
       "Sharpe ratio    0.388694\n",
       "Name: 201, dtype: float64"
      ]
     },
     "execution_count": 513,
     "metadata": {},
     "output_type": "execute_result"
    }
   ],
   "source": [
    "opt_Sharpe[:3]"
   ]
  },
  {
   "cell_type": "markdown",
   "metadata": {},
   "source": [
    "# Summary\n",
    "### 1. All discussion of mean returns, volatility and Sharpe ratio are on a monthly basis. Assume monthly rebalancing. Assume no risk free asset available. Rf=0. Entire portfolio is selected from the 50 stocks universe.\n",
    "### 2. Portfolio optimization mainly uses three set-up: minimize risk given return, maximize return given risk, or find the optimal portfolio that gives most excess return per unit of risk (e.g. Sharpe ratio)\n",
    "### 3. I used four methods to explore optimal portfolios: random simulation, minimum risk portfolio, market/tangent portfolio, PCA portfolio. For most of these methods (except PCA), portfolio construction relies on estimating mean return vector and covariance matrix using historical data. Most of these methods use formulations based on theoretical set-up with simplifying assumptions, which may not be applicable in real scenarios. \n",
    "### 4. I used two approaches to using historical data: the cumulative approach (starting from the earliest available data), or the rolling window approach. Alternatively, there is also a third approach to assign more weights to more recent data, and less weights to more distant past data. Specific methods include semicovariance, exponential covariance, covariance shrinkage etc. These algorithms are included in the pyportfolioopt package and beyond the scope of my knowledge.\n",
    "### 5. My results show large fluctuations when different rolling time windows are used. The selection of rolling time frames is quite arbitrary and tend to give unstable results. This underscores the perils and vulnerability of relying on historical data to estimate the mean and covariance matrix. Estimation itself is extremely difficult and also key to any optimization. Exact estimation is nearly impossible as the true mean and covariance matrix itself evolves over time. This echoes with the adage that we cannot overly rely on historical data to predict future performance.\n",
    "### 6. I measured the risk-return tradeoff only using Sharpe ratio. Other metrics can be used, including Treynor Ratio and Jensen's alpha. Treynor ratio is the excess return divided by the portfolio beta, which is not easy to estimate. For Jensen's alpha, the portfolio is compared against a benchmark, usually a market index. Due to limited information given, this is not applicable in this problem.\n",
    "### 7. All methods I explored in the beginning give portfolios that violate the exposure constraint. Therefore I decided to use random sampling to filter out the portfolios that satisfy this constraint.\n",
    "\n",
    "\n",
    "# Recommendations and alternative approaches\n",
    "### 1. I only explored returns as percentage changes. Log returns can be similarly explored for portfolio optimization.\n",
    "### 2. The pyportfolioopt package has many cool and advanced optimization techniques. It is definitely worthwhile to explore its functionalities in portfolio optimization."
   ]
  }
 ],
 "metadata": {
  "kernelspec": {
   "display_name": "Python 3",
   "language": "python",
   "name": "python3"
  },
  "language_info": {
   "codemirror_mode": {
    "name": "ipython",
    "version": 3
   },
   "file_extension": ".py",
   "mimetype": "text/x-python",
   "name": "python",
   "nbconvert_exporter": "python",
   "pygments_lexer": "ipython3",
   "version": "3.7.7"
  }
 },
 "nbformat": 4,
 "nbformat_minor": 4
}
